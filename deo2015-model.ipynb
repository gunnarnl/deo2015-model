{
 "cells": [
  {
   "cell_type": "markdown",
   "metadata": {},
   "source": [
    "# Python implementation of Deo 2015\n",
    "\n",
    "I can't find any original code online for the model in the paper, so this is my python version of the model.\n",
    "\n",
    "## $\\delta$-function (Jäger 2007)\n",
    "\n",
    "The $\\delta$-function defines communicative success.\n",
    "\n",
    "For a speaker strategy $S$, a hearer strategy $H$, and a state $t$, the success of $S$ conveying $t$ to $H$ is defined as $\\delta$:\n",
    "\n",
    "$$\\delta_t = \\begin{cases}\n",
    "    1 & \\text{if}\\quad H(S(t)) = t\\\\\n",
    "    0 & \\text{otherwise}\n",
    "    \\end{cases}$$"
   ]
  },
  {
   "cell_type": "markdown",
   "metadata": {},
   "source": [
    "## Utility functions\n",
    "\n",
    "### First pass (Jäger 2007)\n",
    "Speaker utility, where $k$ is some cost and $n$ is a function returning $j-1$ where $j$ is the number of expressions used by $S$ to convey the full range of meanings:\n",
    "\n",
    "$$U_s(S, H, t) = \\delta_t(S, H) - k \\times n(S)$$\n",
    "\n",
    "Hearer utility:\n",
    "\n",
    "$$U_h(S, H, t) = \\delta_t(S, H)$$\n",
    "\n",
    "The average speaker and hearer utilities across states are given as:\n",
    "\n",
    "$$U_s(S, H) = \\sum_t P(t)\\times(\\delta_t(S, H)−k\\times n(S))$$\n",
    "\n",
    "$$U_h(S, H) = \\sum_t P(t)\\times(\\delta_t(S, H))$$\n",
    "\n",
    "### Contexts\n",
    "\n",
    "She defines two contexts, $C_{phen}$ and $C_{struc}$, which have the following properties for the strategies $S_*$ in states **phen** and **struc**:\n",
    "\n",
    "|  | $C_{phen}$: **phen** | $C_{phen}$: **struc** | $C_{struc}$: **phen** | $C_{struc}$: **struc** |\n",
    "|:-:|:-:|:-:|:-:|:-:|\n",
    "| $S_{cd}$ | impf | impf | impf | impf |\n",
    "| $S_{pcd}$ | impf | impf | prog | impf |\n",
    "| $S_{ed}$ | prog | impf | prog | impf |\n",
    "| $S_{cd'}$ | prog | prog | prog | prog |\n",
    "\n",
    "These are the hearer strategies given a context and an utterance:\n",
    "\n",
    "|  |C-phen: *prog* | C-phen: *impf* | C-struc: *prog* | C-struc: *impf* |\n",
    "|:-:|:-:|:-:|:-:|:-:|\n",
    "| $H_{cd}$ | **phen** | **phen** | **struc** | **struc** |\n",
    "| $H_{pcd}$ | **phen** | **phen** | **phen** | **struc** |\n",
    "| $H_{ed}$ | **phen** | **struc** | **phen** | **struc** |\n",
    "\n",
    "This gives us the following utility functions:\n",
    "\n",
    "$$U_s(S, H) = \\sum_c P(c) \\times \\sum_t P_c(t)\\times(\\delta_t(S, H)−k\\times n(S))$$\n",
    "\n",
    "$$U_h(S, H) = \\sum c P(c) \\times \\sum_t P_c(t)\\times(\\delta_t(S, H))$$\n",
    "\n",
    "### Expected utility (EU)\n",
    "\n",
    "EU for a symmetrized game:\n",
    "\n",
    "The idea: what happens when an individual with one grammar meets an individual with a different grammar:\n",
    "\n",
    "$$\\text{EU}(\\langle S, H\\rangle, \\langle S', H'\\rangle) = \\frac{1}{2} \\times (U_s(S, H') + U_h(S', H))$$"
   ]
  },
  {
   "cell_type": "code",
   "execution_count": 171,
   "metadata": {},
   "outputs": [],
   "source": [
    "import numpy as np\n",
    "import pandas as pd\n",
    "\n",
    "states = ['phen', 'struc']\n",
    "    \n",
    "contexts = {'Cphen': \n",
    "               {'phen': 0.9,\n",
    "               'struc': 0.1},\n",
    "           'Cstruc':\n",
    "               {'phen': 0.1,\n",
    "               'struc': 0.9}}\n",
    "\n",
    "speaker = {'Scd': {'Cphen': {'phen': 'impf', 'struc': 'impf'},\n",
    "                  'Cstruc': {'phen': 'impf', 'struc': 'impf'}},\n",
    "          'Spcd': {'Cphen': {'phen': 'impf', 'struc': 'impf'},\n",
    "                  'Cstruc': {'phen': 'prog', 'struc': 'impf'}},\n",
    "          'Sem': {'Cphen': {'phen': 'prog', 'struc': 'impf'},\n",
    "                  'Cstruc': {'phen': 'prog', 'struc': 'impf'}},\n",
    "          'Scd2': {'Cphen': {'phen': 'prog', 'struc': 'prog'},\n",
    "                  'Cstruc': {'phen': 'prog', 'struc': 'prog'}}}\n",
    "\n",
    "hearer = {'Hcd': {'Cphen': {'prog': 'phen', 'impf': 'phen'},\n",
    "                  'Cstruc': {'prog': 'struc', 'impf': 'struc'}},\n",
    "          'Hpcd': {'Cphen': {'prog': 'phen', 'impf': 'phen'},\n",
    "                  'Cstruc': {'prog': 'phen', 'impf': 'struc'}},\n",
    "          'Hem': {'Cphen': {'prog': 'phen', 'impf': 'struc'},\n",
    "                  'Cstruc': {'prog': 'phen', 'impf': 'struc'}}}\n",
    "k = 0.01"
   ]
  },
  {
   "cell_type": "code",
   "execution_count": 172,
   "metadata": {},
   "outputs": [],
   "source": [
    "class AverageUtility:\n",
    "    def __init__(self, states, contexts, speaker, hearer, k):\n",
    "        self.states = states\n",
    "        self.contexts = contexts\n",
    "        self.speaker = speaker\n",
    "        self.hearer = hearer\n",
    "        self.k = k\n",
    "    \n",
    "    def delta(self, S, H, t):\n",
    "        if H[S[t]] == t:\n",
    "            return 1\n",
    "        else:\n",
    "            return 0\n",
    "        \n",
    "    def n(self, S):\n",
    "        return len(set(S.values()))-1\n",
    "        \n",
    "    def U_s(self, S, H):\n",
    "        a = 0\n",
    "        for c in self.contexts:\n",
    "            s = 0\n",
    "            for t in self.states:\n",
    "                s += self.contexts[c][t] * self.delta(self.speaker[S][c], self.hearer[H][c], t) \\\n",
    "                        - (self.k * self.n(self.speaker[S][c]))\n",
    "            a += s * 0.5\n",
    "        return a\n",
    "    \n",
    "    def U_h(self, S, H):\n",
    "        a = 0\n",
    "        for c in self.contexts:\n",
    "            s = 0\n",
    "            for t in self.states:\n",
    "                s += self.contexts[c][t] * self.delta(self.speaker[S][c], self.hearer[H][c], t)\n",
    "            a += s * 0.5\n",
    "        return a\n",
    "    \n",
    "    def EU(self, S1, H1, S2, H2):\n",
    "        return 0.5 * (self.U_s(S1, H2) + self.U_h(S2, H1))\n",
    "    \n",
    "    def EU_matrix(self):\n",
    "        strat_prod = list(((x, y) for x in self.speaker.keys() for y in self.hearer.keys()))\n",
    "        index = [', '.join(strat) for strat in strat_prod]\n",
    "        matrix = pd.DataFrame(np.zeros((len(index), len(index))),\n",
    "                              index=index, \n",
    "                              columns=index)\n",
    "        for strat1 in strat_prod:\n",
    "            for strat2 in strat_prod:\n",
    "                matrix.loc[', '.join(strat1), ', '.join(strat2)] = self.EU(strat1[0], strat1[1], strat2[0], strat2[1])\n",
    "        return matrix"
   ]
  },
  {
   "cell_type": "code",
   "execution_count": 223,
   "metadata": {
    "scrolled": true
   },
   "outputs": [
    {
     "data": {
      "text/html": [
       "<div>\n",
       "<style scoped>\n",
       "    .dataframe tbody tr th:only-of-type {\n",
       "        vertical-align: middle;\n",
       "    }\n",
       "\n",
       "    .dataframe tbody tr th {\n",
       "        vertical-align: top;\n",
       "    }\n",
       "\n",
       "    .dataframe thead th {\n",
       "        text-align: right;\n",
       "    }\n",
       "</style>\n",
       "<table border=\"1\" class=\"dataframe\">\n",
       "  <thead>\n",
       "    <tr style=\"text-align: right;\">\n",
       "      <th></th>\n",
       "      <th>Scd, Hcd</th>\n",
       "      <th>Scd, Hpcd</th>\n",
       "      <th>Scd, Hem</th>\n",
       "      <th>Spcd, Hcd</th>\n",
       "      <th>Spcd, Hpcd</th>\n",
       "      <th>Spcd, Hem</th>\n",
       "      <th>Sem, Hcd</th>\n",
       "      <th>Sem, Hpcd</th>\n",
       "      <th>Sem, Hem</th>\n",
       "      <th>Scd2, Hcd</th>\n",
       "      <th>Scd2, Hpcd</th>\n",
       "      <th>Scd2, Hem</th>\n",
       "    </tr>\n",
       "  </thead>\n",
       "  <tbody>\n",
       "    <tr>\n",
       "      <th>Scd, Hcd</th>\n",
       "      <td>0.900</td>\n",
       "      <td>0.900</td>\n",
       "      <td>0.70</td>\n",
       "      <td>0.900</td>\n",
       "      <td>0.900</td>\n",
       "      <td>0.700</td>\n",
       "      <td>0.900</td>\n",
       "      <td>0.900</td>\n",
       "      <td>0.700</td>\n",
       "      <td>0.900</td>\n",
       "      <td>0.900</td>\n",
       "      <td>0.70</td>\n",
       "    </tr>\n",
       "    <tr>\n",
       "      <th>Scd, Hpcd</th>\n",
       "      <td>0.900</td>\n",
       "      <td>0.900</td>\n",
       "      <td>0.70</td>\n",
       "      <td>0.925</td>\n",
       "      <td>0.925</td>\n",
       "      <td>0.725</td>\n",
       "      <td>0.925</td>\n",
       "      <td>0.925</td>\n",
       "      <td>0.725</td>\n",
       "      <td>0.700</td>\n",
       "      <td>0.700</td>\n",
       "      <td>0.50</td>\n",
       "    </tr>\n",
       "    <tr>\n",
       "      <th>Scd, Hem</th>\n",
       "      <td>0.700</td>\n",
       "      <td>0.700</td>\n",
       "      <td>0.50</td>\n",
       "      <td>0.725</td>\n",
       "      <td>0.725</td>\n",
       "      <td>0.525</td>\n",
       "      <td>0.950</td>\n",
       "      <td>0.950</td>\n",
       "      <td>0.750</td>\n",
       "      <td>0.700</td>\n",
       "      <td>0.700</td>\n",
       "      <td>0.50</td>\n",
       "    </tr>\n",
       "    <tr>\n",
       "      <th>Spcd, Hcd</th>\n",
       "      <td>0.895</td>\n",
       "      <td>0.920</td>\n",
       "      <td>0.72</td>\n",
       "      <td>0.895</td>\n",
       "      <td>0.920</td>\n",
       "      <td>0.720</td>\n",
       "      <td>0.895</td>\n",
       "      <td>0.920</td>\n",
       "      <td>0.720</td>\n",
       "      <td>0.895</td>\n",
       "      <td>0.920</td>\n",
       "      <td>0.72</td>\n",
       "    </tr>\n",
       "    <tr>\n",
       "      <th>Spcd, Hpcd</th>\n",
       "      <td>0.895</td>\n",
       "      <td>0.920</td>\n",
       "      <td>0.72</td>\n",
       "      <td>0.920</td>\n",
       "      <td>0.945</td>\n",
       "      <td>0.745</td>\n",
       "      <td>0.920</td>\n",
       "      <td>0.945</td>\n",
       "      <td>0.745</td>\n",
       "      <td>0.695</td>\n",
       "      <td>0.720</td>\n",
       "      <td>0.52</td>\n",
       "    </tr>\n",
       "    <tr>\n",
       "      <th>Spcd, Hem</th>\n",
       "      <td>0.695</td>\n",
       "      <td>0.720</td>\n",
       "      <td>0.52</td>\n",
       "      <td>0.720</td>\n",
       "      <td>0.745</td>\n",
       "      <td>0.545</td>\n",
       "      <td>0.945</td>\n",
       "      <td>0.970</td>\n",
       "      <td>0.770</td>\n",
       "      <td>0.695</td>\n",
       "      <td>0.720</td>\n",
       "      <td>0.52</td>\n",
       "    </tr>\n",
       "    <tr>\n",
       "      <th>Sem, Hcd</th>\n",
       "      <td>0.890</td>\n",
       "      <td>0.915</td>\n",
       "      <td>0.94</td>\n",
       "      <td>0.890</td>\n",
       "      <td>0.915</td>\n",
       "      <td>0.940</td>\n",
       "      <td>0.890</td>\n",
       "      <td>0.915</td>\n",
       "      <td>0.940</td>\n",
       "      <td>0.890</td>\n",
       "      <td>0.915</td>\n",
       "      <td>0.94</td>\n",
       "    </tr>\n",
       "    <tr>\n",
       "      <th>Sem, Hpcd</th>\n",
       "      <td>0.890</td>\n",
       "      <td>0.915</td>\n",
       "      <td>0.94</td>\n",
       "      <td>0.915</td>\n",
       "      <td>0.940</td>\n",
       "      <td>0.965</td>\n",
       "      <td>0.915</td>\n",
       "      <td>0.940</td>\n",
       "      <td>0.965</td>\n",
       "      <td>0.690</td>\n",
       "      <td>0.715</td>\n",
       "      <td>0.74</td>\n",
       "    </tr>\n",
       "    <tr>\n",
       "      <th>Sem, Hem</th>\n",
       "      <td>0.690</td>\n",
       "      <td>0.715</td>\n",
       "      <td>0.74</td>\n",
       "      <td>0.715</td>\n",
       "      <td>0.740</td>\n",
       "      <td>0.765</td>\n",
       "      <td>0.940</td>\n",
       "      <td>0.965</td>\n",
       "      <td>0.990</td>\n",
       "      <td>0.690</td>\n",
       "      <td>0.715</td>\n",
       "      <td>0.74</td>\n",
       "    </tr>\n",
       "    <tr>\n",
       "      <th>Scd2, Hcd</th>\n",
       "      <td>0.900</td>\n",
       "      <td>0.700</td>\n",
       "      <td>0.70</td>\n",
       "      <td>0.900</td>\n",
       "      <td>0.700</td>\n",
       "      <td>0.700</td>\n",
       "      <td>0.900</td>\n",
       "      <td>0.700</td>\n",
       "      <td>0.700</td>\n",
       "      <td>0.900</td>\n",
       "      <td>0.700</td>\n",
       "      <td>0.70</td>\n",
       "    </tr>\n",
       "    <tr>\n",
       "      <th>Scd2, Hpcd</th>\n",
       "      <td>0.900</td>\n",
       "      <td>0.700</td>\n",
       "      <td>0.70</td>\n",
       "      <td>0.925</td>\n",
       "      <td>0.725</td>\n",
       "      <td>0.725</td>\n",
       "      <td>0.925</td>\n",
       "      <td>0.725</td>\n",
       "      <td>0.725</td>\n",
       "      <td>0.700</td>\n",
       "      <td>0.500</td>\n",
       "      <td>0.50</td>\n",
       "    </tr>\n",
       "    <tr>\n",
       "      <th>Scd2, Hem</th>\n",
       "      <td>0.700</td>\n",
       "      <td>0.500</td>\n",
       "      <td>0.50</td>\n",
       "      <td>0.725</td>\n",
       "      <td>0.525</td>\n",
       "      <td>0.525</td>\n",
       "      <td>0.950</td>\n",
       "      <td>0.750</td>\n",
       "      <td>0.750</td>\n",
       "      <td>0.700</td>\n",
       "      <td>0.500</td>\n",
       "      <td>0.50</td>\n",
       "    </tr>\n",
       "  </tbody>\n",
       "</table>\n",
       "</div>"
      ],
      "text/plain": [
       "            Scd, Hcd  Scd, Hpcd  Scd, Hem  Spcd, Hcd  Spcd, Hpcd  Spcd, Hem  \\\n",
       "Scd, Hcd       0.900      0.900      0.70      0.900       0.900      0.700   \n",
       "Scd, Hpcd      0.900      0.900      0.70      0.925       0.925      0.725   \n",
       "Scd, Hem       0.700      0.700      0.50      0.725       0.725      0.525   \n",
       "Spcd, Hcd      0.895      0.920      0.72      0.895       0.920      0.720   \n",
       "Spcd, Hpcd     0.895      0.920      0.72      0.920       0.945      0.745   \n",
       "Spcd, Hem      0.695      0.720      0.52      0.720       0.745      0.545   \n",
       "Sem, Hcd       0.890      0.915      0.94      0.890       0.915      0.940   \n",
       "Sem, Hpcd      0.890      0.915      0.94      0.915       0.940      0.965   \n",
       "Sem, Hem       0.690      0.715      0.74      0.715       0.740      0.765   \n",
       "Scd2, Hcd      0.900      0.700      0.70      0.900       0.700      0.700   \n",
       "Scd2, Hpcd     0.900      0.700      0.70      0.925       0.725      0.725   \n",
       "Scd2, Hem      0.700      0.500      0.50      0.725       0.525      0.525   \n",
       "\n",
       "            Sem, Hcd  Sem, Hpcd  Sem, Hem  Scd2, Hcd  Scd2, Hpcd  Scd2, Hem  \n",
       "Scd, Hcd       0.900      0.900     0.700      0.900       0.900       0.70  \n",
       "Scd, Hpcd      0.925      0.925     0.725      0.700       0.700       0.50  \n",
       "Scd, Hem       0.950      0.950     0.750      0.700       0.700       0.50  \n",
       "Spcd, Hcd      0.895      0.920     0.720      0.895       0.920       0.72  \n",
       "Spcd, Hpcd     0.920      0.945     0.745      0.695       0.720       0.52  \n",
       "Spcd, Hem      0.945      0.970     0.770      0.695       0.720       0.52  \n",
       "Sem, Hcd       0.890      0.915     0.940      0.890       0.915       0.94  \n",
       "Sem, Hpcd      0.915      0.940     0.965      0.690       0.715       0.74  \n",
       "Sem, Hem       0.940      0.965     0.990      0.690       0.715       0.74  \n",
       "Scd2, Hcd      0.900      0.700     0.700      0.900       0.700       0.70  \n",
       "Scd2, Hpcd     0.925      0.725     0.725      0.700       0.500       0.50  \n",
       "Scd2, Hem      0.950      0.750     0.750      0.700       0.500       0.50  "
      ]
     },
     "execution_count": 223,
     "metadata": {},
     "output_type": "execute_result"
    }
   ],
   "source": [
    "average_utility = AverageUtility(states, contexts, speaker, hearer, k)\n",
    "average_utility.EU_matrix()"
   ]
  },
  {
   "cell_type": "markdown",
   "metadata": {},
   "source": [
    "## The replicator–mutator dynamics\n",
    "\n",
    "### The replicator\n",
    "\n",
    "The strategies form a payoff matrix $X$ of shape $|S| \\times |S|$, where $|S|$ is the number of strategies. The cell $X_{ij}$ is payoff of strategy $S_i$ interacting with strategy $S_j$.\n",
    "\n",
    "We will say that the frequencies of strategies in a population is a vector $F$ of length $|S|$ where $F_i$ is the frequency of strategy $S_i$ in the population. \n",
    "\n",
    "The average payoffs for, or *fitness* of, a strategy $S_i$ for a given population composition, then, is just the dot product of the row vector $X_i$ and $F$. We'll call it $\\vec f$.\n",
    "\n",
    "The average fitness of the population $\\phi$ at a given time is given as $\\vec f \\cdot F$, or the dot product of the average payoff for the individual strategies and their frequencies.\n",
    "\n",
    "This allows us to define the subsequent frequency of a strategy A as:\n",
    "\n",
    "$$x'_A = x_A\\frac{f_A}{\\phi}$$\n",
    "\n",
    "Deo notes that this is the discrete time version, not a continuous version, which is likely what we want for a model of language change.\n",
    "\n",
    "### The mutator\n",
    "\n",
    "Now we need to account for mutation. This is represented as a row-stochastic matrix $Q$, which gives us the probability that a mutation occurs from one strategy to the next. The probability that one strategy $j$ mutates into a strategy $i$ is written as $Q_{ji}$\n",
    "\n",
    "Deo provides the following replicator-mutator equation:\n",
    "\n",
    "$$ x'_i = \\sum^n_{j=1}Q_{ji}\\frac{x_jf_j}{\\phi}$$\n",
    "\n",
    "Which can also be written using dot products, where the new frequencies are $F'$ and the operations in the fraction are element-wise:\n",
    "\n",
    "$$F' = Q^\\intercal \\cdot \\frac{F\\vec f}{\\phi}$$"
   ]
  },
  {
   "cell_type": "code",
   "execution_count": 350,
   "metadata": {},
   "outputs": [],
   "source": [
    "class ReplicatorMutatorDynamics:\n",
    "    def __init__(self, payoffs, frequencies, Q):\n",
    "        self.payoffs = payoffs\n",
    "        self.frequencies = frequencies\n",
    "        self.Q = Q\n",
    "    \n",
    "    def replicator(self, payoffs, frequencies):\n",
    "        average_payoffs = payoffs.dot(frequencies)\n",
    "        average_fitness = average_payoffs.dot(frequencies)\n",
    "        new_population = frequencies * average_payoffs / average_fitness\n",
    "        return new_population\n",
    "    \n",
    "    def replicator_mutator(self, payoffs, frequencies, Q):\n",
    "        average_payoffs = payoffs.dot(frequencies)\n",
    "        average_fitness = average_payoffs.dot(frequencies)\n",
    "        new_population = Q.T.dot(frequencies * average_payoffs) / average_fitness\n",
    "        return new_population\n",
    "    \n",
    "    def run_dynamics(self, iterations):\n",
    "        iteration = 0\n",
    "        init_frequencies = self.frequencies\n",
    "        payoffs = self.payoffs\n",
    "        Q = self.Q\n",
    "        frequencies = init_frequencies\n",
    "        results = pd.DataFrame(index=range(0, iterations+1), columns=payoffs.columns)\n",
    "        results.iloc[[0]] = np.zeros((1, len(payoffs.columns)))\n",
    "        for i in range(iteration, iterations+1):\n",
    "            frequencies = self.replicator_mutator(payoffs, frequencies, Q)\n",
    "            results.iloc[i, :] = frequencies\n",
    "        return results"
   ]
  },
  {
   "cell_type": "markdown",
   "metadata": {},
   "source": [
    "### Initial replication\n",
    "\n",
    "This replicates the results in section 5.3.1\n",
    "\n",
    "First we'll try it with perfect learners."
   ]
  },
  {
   "cell_type": "code",
   "execution_count": 310,
   "metadata": {},
   "outputs": [],
   "source": [
    "test = ['Scd, Hcd', 'Spcd, Hpcd']\n",
    "test_mat = average_utility.EU_matrix().loc[test, test]"
   ]
  },
  {
   "cell_type": "code",
   "execution_count": 311,
   "metadata": {},
   "outputs": [],
   "source": [
    "frequencies = np.array([0.89, 0.11])\n",
    "Q = np.array([[1, 0],\n",
    "              [0, 1]])\n",
    "replicator = ReplicatorMutatorDynamics(test_mat, frequencies, Q)"
   ]
  },
  {
   "cell_type": "code",
   "execution_count": 312,
   "metadata": {},
   "outputs": [
    {
     "data": {
      "text/plain": [
       "<AxesSubplot:>"
      ]
     },
     "execution_count": 312,
     "metadata": {},
     "output_type": "execute_result"
    },
    {
     "data": {
      "image/png": "[encoded data removed]",
      "text/plain": [
       "<Figure size 432x288 with 1 Axes>"
      ]
     },
     "metadata": {
      "needs_background": "light"
     },
     "output_type": "display_data"
    }
   ],
   "source": [
    "model1 = replicator.run_dynamics(700)\n",
    "model.plot()"
   ]
  },
  {
   "cell_type": "markdown",
   "metadata": {},
   "source": [
    "Now we'll try it with imperfect learners"
   ]
  },
  {
   "cell_type": "code",
   "execution_count": 313,
   "metadata": {
    "scrolled": true
   },
   "outputs": [
    {
     "data": {
      "text/plain": [
       "<AxesSubplot:>"
      ]
     },
     "execution_count": 313,
     "metadata": {},
     "output_type": "execute_result"
    },
    {
     "data": {
      "image/png": "[encoded data removed]",
      "text/plain": [
       "<Figure size 432x288 with 1 Axes>"
      ]
     },
     "metadata": {
      "needs_background": "light"
     },
     "output_type": "display_data"
    }
   ],
   "source": [
    "frequencies = np.array([1, 0])\n",
    "Q = np.array([[0.99, 0.01],\n",
    "              [0.01, 0.99]])\n",
    "replicator2 = ReplicatorMutatorDynamics(test_mat, frequencies, Q)\n",
    "model2 = replicator2.run_dynamics(300)\n",
    "model2.plot()"
   ]
  },
  {
   "cell_type": "markdown",
   "metadata": {},
   "source": [
    "So we've replicated her results."
   ]
  },
  {
   "cell_type": "markdown",
   "metadata": {},
   "source": [
    "### Replication of four strategies\n",
    "\n",
    "Now we can try replicating the results with all four strategies.\n",
    "\n",
    "The results will ultimately depend on how Q is defined."
   ]
  },
  {
   "cell_type": "code",
   "execution_count": 314,
   "metadata": {},
   "outputs": [
    {
     "data": {
      "text/plain": [
       "<AxesSubplot:>"
      ]
     },
     "execution_count": 314,
     "metadata": {},
     "output_type": "execute_result"
    },
    {
     "data": {
      "image/png": "[encoded data removed]",
      "text/plain": [
       "<Figure size 432x288 with 1 Axes>"
      ]
     },
     "metadata": {
      "needs_background": "light"
     },
     "output_type": "display_data"
    }
   ],
   "source": [
    "strategies = ['Scd, Hcd', 'Spcd, Hpcd', 'Sem, Hem', 'Scd2, Hcd']\n",
    "payoff_matrix = average_utility.EU_matrix().loc[strategies, strategies]\n",
    "frequencies = np.array([1, 0, 0, 0])\n",
    "Q2 = np.array([[0.94, 0.06, 0, 0],\n",
    "              [0.02, 0.91, 0.07, 0],\n",
    "              [0, 0, 0.97, 0.03],\n",
    "              [0, 0, 0, 1]])\n",
    "replicator3 = ReplicatorMutatorDynamics(payoff_matrix, frequencies, Q2)\n",
    "model3 = replicator3.run_dynamics(200)\n",
    "model3.plot()"
   ]
  },
  {
   "cell_type": "markdown",
   "metadata": {},
   "source": [
    "In the final model, she posits a Q that changes under certain conditions regarding the underlying frequencies of the strategies in the population. I'll maybe model it later, but I'm not sure that stipulating the change in Q is really sound given that she essentially justifies it on the basis of cost considerations, which should factor into the payoff matrix. "
   ]
  },
  {
   "cell_type": "markdown",
   "metadata": {},
   "source": [
    "## Experimenting with the model\n",
    "\n",
    "It turns out that changing the cost has a *huge* effect on the results. By almost doubling the initial cost we get something resembing the final version of her model without having to posit that the mutation rates change at different population frequencies.\n",
    "\n",
    "We can see that below where k=0.19. This same basic shape holds between 0.19~0.27, but outside of that range, we lose it. Even within that range, we see a lot of variation. If cost is 0, the basic shape looks like the categorical one that Deo posits.\n",
    "\n",
    "If I had to guess why she doesn't go with k=~0.2, it's because the middle portion of the timeseries is pretty muddy and hard to interpret?"
   ]
  },
  {
   "cell_type": "code",
   "execution_count": 338,
   "metadata": {},
   "outputs": [
    {
     "data": {
      "text/plain": [
       "<AxesSubplot:>"
      ]
     },
     "execution_count": 338,
     "metadata": {},
     "output_type": "execute_result"
    },
    {
     "data": {
      "image/png": "[encoded data removed]",
      "text/plain": [
       "<Figure size 432x288 with 1 Axes>"
      ]
     },
     "metadata": {
      "needs_background": "light"
     },
     "output_type": "display_data"
    }
   ],
   "source": [
    "k2 = 0.019\n",
    "average_utility = AverageUtility(states, contexts, speaker, hearer, k2)\n",
    "\n",
    "strategies = ['Scd, Hcd', 'Spcd, Hpcd', 'Sem, Hem', 'Scd2, Hcd']\n",
    "payoff_matrix = average_utility.EU_matrix().loc[strategies, strategies]\n",
    "frequencies = np.array([1, 0, 0, 0])\n",
    "Q2 = np.array([[0.94, 0.06, 0, 0],\n",
    "              [0.02, 0.91, 0.07, 0],\n",
    "              [0, 0, 0.97, 0.03],\n",
    "              [0, 0, 0, 1]])\n",
    "\n",
    "replicator = ReplicatorMutatorDynamics(payoff_matrix, frequencies, Q2)\n",
    "model = replicator.run_dynamics(200)\n",
    "model.plot()"
   ]
  },
  {
   "cell_type": "markdown",
   "metadata": {},
   "source": [
    "Also, it looks like modulating the values of the Q matrix just a little bit has a huge effect. Shifting the probability density of the $S_{em}, H_{em}$ row just one point puts the prog categorical strategy into 100% in the limit. Something to consider."
   ]
  },
  {
   "cell_type": "code",
   "execution_count": 349,
   "metadata": {},
   "outputs": [
    {
     "data": {
      "text/plain": [
       "<AxesSubplot:>"
      ]
     },
     "execution_count": 349,
     "metadata": {},
     "output_type": "execute_result"
    },
    {
     "data": {
      "image/png": "[encoded data removed]",
      "text/plain": [
       "<Figure size 432x288 with 1 Axes>"
      ]
     },
     "metadata": {
      "needs_background": "light"
     },
     "output_type": "display_data"
    }
   ],
   "source": [
    "k2 = 0.01\n",
    "average_utility = AverageUtility(states, contexts, speaker, hearer, k2)\n",
    "\n",
    "strategies = ['Scd, Hcd', 'Spcd, Hpcd', 'Sem, Hem', 'Scd2, Hcd']\n",
    "payoff_matrix = average_utility.EU_matrix().loc[strategies, strategies]\n",
    "frequencies = np.array([1, 0, 0, 0])\n",
    "Q2 = np.array([[0.94, 0.06, 0, 0],\n",
    "              [0.02, 0.91, 0.07, 0],\n",
    "              [0, 0, 0.96, 0.04],\n",
    "              [0, 0, 0, 1]])\n",
    "\n",
    "replicator = ReplicatorMutatorDynamics(payoff_matrix, frequencies, Q2)\n",
    "model = replicator.run_dynamics(200)\n",
    "model.plot()"
   ]
  }
 ],
 "metadata": {
  "kernelspec": {
   "display_name": "Python 3",
   "language": "python",
   "name": "python3"
  },
  "language_info": {
   "codemirror_mode": {
    "name": "ipython",
    "version": 3
   },
   "file_extension": ".py",
   "mimetype": "text/x-python",
   "name": "python",
   "nbconvert_exporter": "python",
   "pygments_lexer": "ipython3",
   "version": "3.6.9"
  }
 },
 "nbformat": 4,
 "nbformat_minor": 4
}
